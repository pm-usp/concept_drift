{
 "cells": [
  {
   "attachments": {},
   "cell_type": "markdown",
   "metadata": {},
   "source": [
    "# Step-by-step demonstration"
   ]
  },
  {
   "attachments": {},
   "cell_type": "markdown",
   "metadata": {},
   "source": [
    "## Lib Imports and configurations"
   ]
  },
  {
   "cell_type": "code",
   "execution_count": null,
   "metadata": {},
   "outputs": [],
   "source": [
    "# %matplotlib notebook\n",
    "# %matplotlib inline \n",
    "%load_ext autoreload\n",
    "%autoreload 2\n",
    "\n",
    "import sys\n",
    "import os\n",
    "import glob\n",
    "\n",
    "import pandas as pd\n",
    "import numpy as np\n",
    "import matplotlib.pyplot as plt\n",
    "import ruptures as rpt\n",
    "from ruptures.metrics import precision_recall, meantime\n",
    "import scipy.stats as ss\n",
    "\n",
    "sys.path.append(\"Codes/\")\n",
    "\n",
    "import TMPD_utils\n",
    "import TMPD_class\n",
    "\n",
    "import warnings\n",
    "warnings.filterwarnings(\"ignore\")\n",
    "\n",
    "import gc\n",
    "gc.enable()\n",
    "\n",
    "pd.set_option('display.max_rows', 100)\n",
    "pd.set_option('display.max_columns', 100)\n",
    "pd.set_option('display.max_colwidth', 150)\n",
    "# pd.set_option('display.float_format', lambda x: f'{x:,.3f}')\n",
    "pd.options.display.float_format = '{:.4f}'.format\n"
   ]
  },
  {
   "attachments": {},
   "cell_type": "markdown",
   "metadata": {},
   "source": [
    "## Loading event log"
   ]
  },
  {
   "cell_type": "code",
   "execution_count": null,
   "metadata": {},
   "outputs": [],
   "source": [
    "# Mapping all event_logs paths\n",
    "logs_path = glob.glob(\"Input/Synthetic/Synthetic Event Streams (Ceravolo - Evaluation)/recurring_*[!baseline].csv\")\n",
    "\n",
    "# Removing the logs with 100 cases only events \n",
    "logs_path = [x for x in logs_path if \"_100_\" not in x]\n",
    "\n",
    "# Showing mapped paths\n",
    "print(\"How many logs? \", len(logs_path))\n",
    "pd.DataFrame(logs_path).head(30)"
   ]
  },
  {
   "attachments": {},
   "cell_type": "markdown",
   "metadata": {},
   "source": [
    "<!-- ![Alt text](../Images/Concept_drift_firstcycle_steps_eng.png \"General steps\") -->"
   ]
  },
  {
   "cell_type": "code",
   "execution_count": null,
   "metadata": {},
   "outputs": [],
   "source": [
    "# Loading first event log\n",
    "log_path = logs_path[11]\n",
    "print(log_path.split(\"\\\\\")[-1].split(\".\")[0])\n",
    "event_log = pd.read_csv(log_path)\n",
    "\n",
    "# This is a specifc step for this event log that separates in different rows the start and end of an activity. As we will only use one timestamp, we are filtering only the row representing the end of an activity.  \n",
    "# event_log = event_log[event_log.EventType == \"complete\"]\n",
    "\n",
    "# Save original event index\n",
    "event_log = event_log.reset_index(names='original_index') \n",
    "\n",
    "# Create an id based on the order of the event in the raw event log\n",
    "event_log[\"Event_order_id\"] = event_log.index\n",
    "\n",
    "# # This is a specifc step for this event log, because it have duplicated case ids. So we create a new case id.\n",
    "# event_log[\"Trace_order\"] = TMPD_utils.cumulative_counting(event_log[\"case\"])\n",
    "\n",
    "# Showing loaded event log\n",
    "print(\"Total events: \", len(event_log))\n",
    "print(\"Total cases: \", len(event_log.groupby('case')))\n",
    "print(\"Total activities: \", len(event_log.groupby('event')))\n",
    "event_log.head(15)"
   ]
  },
  {
   "attachments": {},
   "cell_type": "markdown",
   "metadata": {},
   "source": [
    "## Step 1 - Instantiating class and setting event log"
   ]
  },
  {
   "cell_type": "code",
   "execution_count": null,
   "metadata": {},
   "outputs": [],
   "source": [
    "# Iniatializing the TMPD_class\n",
    "TMPD_instance = TMPD_class.TMPD(scenario='offline')\n",
    "\n",
    "# Setting the transition log\n",
    "TMPD_instance.set_transition_log(event_log, case_id='case', activity_key='event', timestamp_key='startTime', timestamp_format=\"infer\", other_columns_keys=[])\n",
    "\n",
    "# Executing the transition log\n",
    "TMPD_instance.run_transition_log()\n",
    "\n",
    "# Showing the transition log created\n",
    "print(len(TMPD_instance.get_transition_log()))\n",
    "TMPD_instance.get_transition_log().head(15)"
   ]
  },
  {
   "attachments": {},
   "cell_type": "markdown",
   "metadata": {},
   "source": [
    "## Step 2 - Setting Window Strategy"
   ]
  },
  {
   "cell_type": "code",
   "execution_count": null,
   "metadata": {},
   "outputs": [],
   "source": [
    "# Setting the window strategy parameters\n",
    "TMPD_instance.set_windowing_strategy(window_size_mode = 'Fixed', window_size = 500, window_ref_mode = 'Fixed', overlap = True, sliding_step = 50, continuous = True)\n",
    "\n",
    "# Executing the window strategy indexation\n",
    "TMPD_instance.run_windowing_strategy()\n",
    "\n",
    "# Showing the windows indexes\n",
    "dict(list(TMPD_instance.get_windowing_strategy().items())[:15])"
   ]
  },
  {
   "attachments": {},
   "cell_type": "markdown",
   "metadata": {},
   "source": [
    "## Step 3 - Setting Process Representation (using Transition Matrix)"
   ]
  },
  {
   "cell_type": "code",
   "execution_count": null,
   "metadata": {},
   "outputs": [],
   "source": [
    "# Setting the Transition Matrix (TM) process representation\n",
    "TMPD_instance.set_process_representation(threshold_anomaly=0\n",
    "                                    , control_flow_features={'frequency', 'probability', 'causality', 'parallel'}\n",
    "                                    , time_features={'avg_time':'timestamp', 'time_std':'timestamp'}\n",
    "                                    , resource_features={}\n",
    "                                    , data_features={})\n",
    "\n",
    "# Executing the process_representation using all dataset just for an example\n",
    "TMPD_instance.run_process_representation(TMPD_instance.transition_log)\n",
    "\n",
    "# Showing the process representation created\n",
    "TMPD_instance.get_process_representation().head(15)"
   ]
  },
  {
   "attachments": {},
   "cell_type": "markdown",
   "metadata": {},
   "source": [
    "## Step 4 - Setting Change Representation"
   ]
  },
  {
   "cell_type": "code",
   "execution_count": null,
   "metadata": {},
   "outputs": [],
   "source": [
    "# Defining the change features\n",
    "change_features_strategy_dict = {\n",
    "    'delta_matrix_strategy': \n",
    "        {\n",
    "            'frequency_delta' : {'process_feature':'frequency', 'method':'aggregation', 'agg_function' : 'sum'}\n",
    "            , 'probability_delta' : {'process_feature':'probability', 'method':'aggregation', 'agg_function' : 'sum'}\n",
    "            # , 'causality_delta' : {'process_feature':'causality', 'method':'aggregation', 'agg_function' : 'sum'}\n",
    "            # , 'parallel_delta' : {'process_feature':'parallel', 'method':'aggregation', 'agg_function' : 'sum'}\n",
    "            , 'frequency_delta_percentage' : {'process_feature':'frequency', 'method':'percentage'}\n",
    "            , 'prob_freq_delta_weight' : {'process_feature':'probability', 'method':'aggregation_weight', 'agg_function' : 'sum', 'weight_feature' : 'frequency'}\n",
    "            , 'avg_time_delta' : {'process_feature':'avg_time', 'method':'aggregation', 'agg_function' : 'sum'}\n",
    "            , 'time_std_delta' : {'process_feature':'time_std', 'method':'aggregation', 'agg_function' : 'sum'}\n",
    "        }\n",
    "    , 'statistic_test_strategy' : \n",
    "        {\n",
    "            'frequency_gtest_pvalue' : {'process_feature':'frequency', 'method':'g_test', 'contingency_matrix_sum_value' : '5', 'remove_zeros':'True'}\n",
    "            , 'frequency_cramersv' : {'process_feature':'frequency', 'method':'cramers_v', 'contingency_matrix_sum_value' : '5', 'remove_zeros':'True'}\n",
    "        }\n",
    "    }\n",
    "\n",
    "# Setting Change Representation\n",
    "TMPD_instance.set_change_representation(change_features_strategy_dict)\n",
    "\n",
    "# Executing the Change Representation using the window strategy\n",
    "TMPD_instance.run_change_representation()\n",
    "\n",
    "# Showing the Change Representation created\n",
    "TMPD_instance.get_change_representation().head(15)"
   ]
  },
  {
   "attachments": {},
   "cell_type": "markdown",
   "metadata": {},
   "source": [
    "## Step 5 - Setting Detection Task"
   ]
  },
  {
   "cell_type": "code",
   "execution_count": null,
   "metadata": {},
   "outputs": [],
   "source": [
    "# Defining detection strategies\n",
    "detection_task_strategy_dict = {\n",
    "    'time_series_strategy': \n",
    "    {\n",
    "        'cpd_frequency_delta' : {'change_features':['frequency_delta'], 'method':'cpd_pelt', 'smooth' : '3'} #, 'model' : 'rbf', 'cost' : 'rpt.costs.CostRbf()', 'min_size' : '1', 'jump' : '1'\n",
    "        , 'cpd_prob_freq_delta' : {'change_features':['prob_freq_delta_weight'], 'method':'cpd_pelt', 'smooth' : '3'} #, 'model' : 'rbf', 'cost' : 'rpt.costs.CostRbf()', 'min_size' : '1', 'jump' : '1'\n",
    "        # , 'cpd_prob_causality_delta' : {'change_features':['causality_delta'], 'method':'cpd_pelt', 'smooth' : '3'} #, 'model' : 'rbf', 'cost' : 'rpt.costs.CostRbf()', 'min_size' : '1', 'jump' : '1'\n",
    "        # , 'cpd_prob_parallel_delta' : {'change_features':['parallel_delta'], 'method':'cpd_pelt', 'smooth' : '3'} #, 'model' : 'rbf', 'cost' : 'rpt.costs.CostRbf()', 'min_size' : '1', 'jump' : '1'\n",
    "        , 'cpd_avg_time_delta' : {'change_features':['avg_time_delta'], 'method':'cpd_pelt', 'smooth' : '3'} #, 'model' : 'rbf', 'cost' : 'rpt.costs.CostRbf()', 'min_size' : '1', 'jump' : '1'\n",
    "        , 'cpd_time_std_delta' : {'change_features':['time_std_delta'], 'method':'cpd_pelt', 'smooth' : '3'} #, 'model' : 'rbf', 'cost' : 'rpt.costs.CostRbf()', 'min_size' : '1', 'jump' : '1'\n",
    "        , 'cramersv_frequency' : {'change_features':['frequency_cramersv'], 'method':'cpd_pelt', 'smooth' : '3'} #, 'model' : 'rbf', 'cost' : 'rpt.costs.CostRbf()', 'min_size' : '1', 'jump' : '1'\n",
    "    }\n",
    "    , 'threshold_strategy' : \n",
    "    {\n",
    "        'gtest_frequency' : {'change_features':['frequency_gtest_pvalue'], 'method':'comparison_operator', 'operator' : 'le', 'threshold_value' : '0.025', 'smooth' : '3'}\n",
    "        , 'cramersv_frequency' : {'change_features':['frequency_cramersv'], 'method':'comparison_operator', 'operator' : 'ge', 'threshold_value' : '0.05', 'smooth' : '3'}\n",
    "        # , 'fixed_frequency_delta_percentage' : {'change_features':['frequency_delta_percentage'], 'method':'comparison_operator', 'operator' : 'ge', 'threshold_value' : '0.05', 'smooth' : '3'}\n",
    "    }\n",
    "}\n",
    "\n",
    "# Setting Detection Task\n",
    "TMPD_instance.set_detection_task(detection_task_strategy_dict)\n",
    "\n",
    "# Executing the Detection Task\n",
    "TMPD_instance.run_detection_task()\n",
    "\n",
    "# Showing Detection Task Results\n",
    "TMPD_instance.get_detection_task()\n"
   ]
  },
  {
   "cell_type": "code",
   "execution_count": null,
   "metadata": {},
   "outputs": [],
   "source": [
    "# Grounding truth\n",
    "log_size = event_log['case'].nunique()\n",
    "ground_truth_traces_indexes = list(range(int(log_size/3), log_size, int(log_size/3+1)))\n",
    "\n",
    "transition_log = TMPD_instance.get_transition_log()\n",
    "ground_truth_events_indexes = transition_log[transition_log['case_id'].isin(ground_truth_traces_indexes)].groupby('case_id').first()['transition_id'].to_list()\n",
    "\n",
    "# signals_indexes = signals.reset_index()\n",
    "signals = TMPD_instance.get_change_representation()\n",
    "ground_truth = []\n",
    "for ground_truth_events_index in ground_truth_events_indexes:\n",
    "    ground_truth.extend(signals[(signals['start'] <= ground_truth_events_index) \n",
    "                & (signals['end'] >= ground_truth_events_index)].head(1).index.to_list())\n",
    "ground_truth = ground_truth + [len(signals)]\n",
    "print(\"ground_truth: \", ground_truth)"
   ]
  },
  {
   "cell_type": "code",
   "execution_count": null,
   "metadata": {},
   "outputs": [],
   "source": [
    "### Validation metrics\n",
    "margin_error_defined=3\n",
    "detection_task_results = TMPD_instance.get_detection_task()\n",
    "for index, row in detection_task_results.iterrows():\n",
    "    try:\n",
    "        detection_task_results.loc[index, 'ground_truth'] = str(ground_truth)\n",
    "\n",
    "        # smooth = int(detection_task_strategy_dict[row['detection_strategy']][row['detection_feature']]['smooth'])\n",
    "\n",
    "        # Margin of error give more margin to overlap if used.\n",
    "        margin_error = int(margin_error_defined + 1)  if TMPD_instance.overlap == False else int(margin_error_defined + 1 + TMPD_instance.window_size/TMPD_instance.sliding_step)\n",
    "\n",
    "        precision, recall = precision_recall(ground_truth, row['detection_results'], margin=margin_error)\n",
    "\n",
    "        f1 = round(ss.hmean([precision, recall]),2)\n",
    "        detection_task_results.loc[index, 'f1'] = f1\n",
    "        \n",
    "        delay = round(meantime(ground_truth, row['detection_results']), 2)\n",
    "        detection_task_results.loc[index, 'delay'] = delay\n",
    "\n",
    "    except Exception as e:\n",
    "        print(\"Error:\", e)\n",
    "        detection_task_results.loc[index, 'ground_truth'] = str(ground_truth)\n",
    "        detection_task_results.loc[index, 'f1'] = np.nan\n",
    "        detection_task_results.loc[index, 'delay'] = np.nan\n",
    "\n",
    "detection_task_results"
   ]
  },
  {
   "cell_type": "code",
   "execution_count": null,
   "metadata": {},
   "outputs": [],
   "source": [
    "log_path"
   ]
  },
  {
   "cell_type": "code",
   "execution_count": null,
   "metadata": {},
   "outputs": [],
   "source": [
    "log_path.split(\"/\")[-1].split(\"_\")[-5].split(\"\\\\\")[-1]"
   ]
  },
  {
   "cell_type": "code",
   "execution_count": null,
   "metadata": {},
   "outputs": [],
   "source": [
    "# Display Detection Task Results \n",
    "for result in detection_task_results.itertuples():\n",
    "    fig, axarr = rpt.display(signal = TMPD_instance.get_change_representation()[TMPD_instance.detection_task_strategy_dict[result.detection_strategy][result.detection_feature]['change_features']]\n",
    "                , true_chg_pts=ground_truth\n",
    "                , computed_chg_pts = result.detection_results\n",
    "                , computed_chg_pts_color = \"k\"\n",
    "                , computed_chg_pts_linewidth = 4\n",
    "                , computed_chg_pts_linestyle = \"--\"\n",
    "                , computed_chg_pts_alpha = 1\n",
    "                , figsize=(15, 2)\n",
    "                )\n",
    "    plt.suptitle(\"Change Pat.: \" + log_path.split(\"/\")[-1].split(\"_\")[-1].split(\".\")[0]\n",
    "                 + \" - Change type: \" + log_path.split(\"/\")[-1].split(\"_\")[-5].split(\"\\\\\")[-1]\n",
    "                 + \" - Perspective: \" + log_path.split(\"/\")[-1].split(\"_\")[-4]\n",
    "                 + \" - Size: \" + log_path.split(\"/\")[-1].split(\"_\")[-2]\n",
    "                 + \" - Noise: \" + log_path.split(\"/\")[-1].split(\"_\")[-3] \n",
    "                 + \" - Feature: \" + result.detection_feature\n",
    "                 + \" - F1: \" + str(result.f1) \n",
    "                 + \" - Delay: \" + str(result.delay)\n",
    "                 , fontsize=15)\n",
    "\n",
    "    plt.subplots_adjust(top=0.8)\n",
    "    plt.show()"
   ]
  }
 ],
 "metadata": {
  "kernelspec": {
   "display_name": ".venv",
   "language": "python",
   "name": "python3"
  },
  "language_info": {
   "codemirror_mode": {
    "name": "ipython",
    "version": 3
   },
   "file_extension": ".py",
   "mimetype": "text/x-python",
   "name": "python",
   "nbconvert_exporter": "python",
   "pygments_lexer": "ipython3",
   "version": "3.11.5"
  },
  "orig_nbformat": 4,
  "vscode": {
   "interpreter": {
    "hash": "4479e0a5046c62b3193360939b9555042324f3c1ca8424e4ac0e4f7948559ebe"
   }
  }
 },
 "nbformat": 4,
 "nbformat_minor": 2
}
